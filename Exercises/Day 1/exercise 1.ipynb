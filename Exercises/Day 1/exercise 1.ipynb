{
 "cells": [
  {
   "cell_type": "markdown",
   "metadata": {},
   "source": [
    "# Name: B.S.V.W. Munasinghe\n",
    "# Index Number: 190397E"
   ]
  },
  {
   "cell_type": "markdown",
   "metadata": {},
   "source": [
    "1)"
   ]
  },
  {
   "cell_type": "code",
   "execution_count": 1,
   "metadata": {},
   "outputs": [
    {
     "name": "stdout",
     "output_type": "stream",
     "text": [
      "1 : 1\n",
      "2 : 4\n",
      "3 : 9\n",
      "4 : 16\n",
      "5 : 25\n"
     ]
    }
   ],
   "source": [
    "for i in range(1,6):\n",
    "  print(i,\":\",i**2)"
   ]
  },
  {
   "cell_type": "markdown",
   "metadata": {},
   "source": [
    "2)"
   ]
  },
  {
   "cell_type": "code",
   "execution_count": 2,
   "metadata": {},
   "outputs": [
    {
     "name": "stdout",
     "output_type": "stream",
     "text": [
      "1 : 1\n",
      "4 : 16\n"
     ]
    }
   ],
   "source": [
    "import sympy as sy\n",
    "for i in range(1,6):\n",
    "  if  not (sy.isprime(i)):\n",
    "    print(i,\":\",i**2)"
   ]
  },
  {
   "cell_type": "markdown",
   "metadata": {},
   "source": [
    "3)"
   ]
  },
  {
   "cell_type": "code",
   "execution_count": 3,
   "metadata": {},
   "outputs": [
    {
     "name": "stdout",
     "output_type": "stream",
     "text": [
      "1 : 1\n",
      "2 : 4\n",
      "3 : 9\n",
      "4 : 16\n",
      "5 : 25\n"
     ]
    }
   ],
   "source": [
    "sqrs = [i**2 for i in range(1,6)]\n",
    "for i in range(len(sqrs)):\n",
    "  print(i+1,\":\",sqrs[i])"
   ]
  },
  {
   "cell_type": "markdown",
   "metadata": {},
   "source": [
    "4)"
   ]
  },
  {
   "cell_type": "code",
   "execution_count": 4,
   "metadata": {},
   "outputs": [
    {
     "name": "stdout",
     "output_type": "stream",
     "text": [
      "1 : 1\n",
      "4 : 16\n"
     ]
    }
   ],
   "source": [
    "prime_sqrs = [(i,i**2) for i in range(1,6) if not sy.isprime(i)]\n",
    "for i in prime_sqrs:\n",
    "  print(i[0],\":\",i[1])"
   ]
  },
  {
   "cell_type": "markdown",
   "metadata": {},
   "source": [
    "5)  a)"
   ]
  },
  {
   "cell_type": "code",
   "execution_count": 5,
   "metadata": {},
   "outputs": [
    {
     "name": "stdout",
     "output_type": "stream",
     "text": [
      "[[ 9 12 15  9]\n",
      " [25 32 39 19]\n",
      " [41 52 63 29]]\n"
     ]
    }
   ],
   "source": [
    "import numpy as np\n",
    "A = np.array([[1,2],[3,4],[5,6]])\n",
    "B = np.array([[7,8,9,1],[1,2,3,4]])\n",
    "C = np.matmul(A,B)\n",
    "print(C)"
   ]
  },
  {
   "cell_type": "markdown",
   "metadata": {},
   "source": [
    "5)  b)"
   ]
  },
  {
   "cell_type": "code",
   "execution_count": 6,
   "metadata": {},
   "outputs": [
    {
     "name": "stdout",
     "output_type": "stream",
     "text": [
      "[[ 3  4]\n",
      " [15 16]\n",
      " [15  6]]\n"
     ]
    }
   ],
   "source": [
    "A = np.array([[1,2],[3,4],[5,6]])\n",
    "B = np.array([[3,2],[5,4],[3,1]])\n",
    "D = np.multiply(A,B)\n",
    "print(D)"
   ]
  },
  {
   "cell_type": "markdown",
   "metadata": {},
   "source": [
    "6)"
   ]
  },
  {
   "cell_type": "code",
   "execution_count": 7,
   "metadata": {},
   "outputs": [
    {
     "name": "stdout",
     "output_type": "stream",
     "text": [
      "[[ 9  7  1  0  5  1  6]\n",
      " [ 6  4  4  8  6  3  4]\n",
      " [ 1 10  5  2  8  5  8]\n",
      " [ 9  8  1  9  1  8  5]\n",
      " [ 9  3  1  7  5  8  4]]\n"
     ]
    }
   ],
   "source": [
    "nums= np.random.randint(0,11,size=(5,7))\n",
    "print(nums)"
   ]
  },
  {
   "cell_type": "code",
   "execution_count": 11,
   "metadata": {},
   "outputs": [
    {
     "name": "stdout",
     "output_type": "stream",
     "text": [
      "[[ 8  8]\n",
      " [ 4  5]\n",
      " [10  3]]\n",
      "Shape of the array: (3, 2)\n"
     ]
    }
   ],
   "source": [
    "sub_arr = nums[1:4,:2]\n",
    "print(sub_arr)\n",
    "print(\"Shape of the array:\",sub_arr.shape)"
   ]
  },
  {
   "cell_type": "markdown",
   "metadata": {},
   "source": [
    "7)"
   ]
  },
  {
   "cell_type": "markdown",
   "metadata": {},
   "source": [
    " Broadcast examples"
   ]
  },
  {
   "cell_type": "code",
   "execution_count": 8,
   "metadata": {},
   "outputs": [
    {
     "name": "stdout",
     "output_type": "stream",
     "text": [
      "[ 8 12 16 20 24 24]\n"
     ]
    }
   ],
   "source": [
    "arr = np.array([2,3,4,5,6,6])\n",
    "b = 4\n",
    "print(arr*4)"
   ]
  },
  {
   "cell_type": "code",
   "execution_count": 9,
   "metadata": {},
   "outputs": [
    {
     "name": "stdout",
     "output_type": "stream",
     "text": [
      "[[ 2  4  7]\n",
      " [ 5  7 10]\n",
      " [ 8 10 13]]\n"
     ]
    }
   ],
   "source": [
    "arr = np.array([[1,2,3],[4,5,6],[7,8,9]])\n",
    "b = np.array([1,2,4])\n",
    "print(arr+b)"
   ]
  },
  {
   "cell_type": "code",
   "execution_count": 10,
   "metadata": {},
   "outputs": [
    {
     "name": "stdout",
     "output_type": "stream",
     "text": [
      "[[2 3 4]\n",
      " [3 4 5]\n",
      " [4 5 6]\n",
      " [5 6 7]\n",
      " [6 7 8]]\n"
     ]
    }
   ],
   "source": [
    "arr = np.array([[1],[2],[3],[4],[5]])\n",
    "b = np.array([1,2,3])\n",
    "print(arr+b)"
   ]
  },
  {
   "cell_type": "markdown",
   "metadata": {},
   "source": [
    "8)"
   ]
  },
  {
   "cell_type": "code",
   "execution_count": 11,
   "metadata": {},
   "outputs": [
    {
     "data": {
      "text/plain": [
       "array([[-4.07735728],\n",
       "       [ 2.03161192]])"
      ]
     },
     "execution_count": 11,
     "metadata": {},
     "output_type": "execute_result"
    },
    {
     "data": {
      "image/png": "[encoded data removed]",
      "text/plain": [
       "<Figure size 432x288 with 1 Axes>"
      ]
     },
     "metadata": {
      "needs_background": "light"
     },
     "output_type": "display_data"
    }
   ],
   "source": [
    "import matplotlib.pyplot as plt\n",
    "from numpy import linalg\n",
    "m, c = 2 , -4\n",
    "N = 100\n",
    "x = np.linspace(0 , N-1, N).reshape(N, 1)\n",
    "sigma = 10\n",
    "y = m*x + c + np.random.normal(0 , sigma , (N, 1 ) )\n",
    "plt.scatter(x,y)\n",
    "\n",
    "X = np.append(np.ones((N,1)),x,axis = 1)\n",
    "result = linalg.inv(X.T @ X) @ X.T @ y\n",
    "result"
   ]
  },
  {
   "cell_type": "markdown",
   "metadata": {},
   "source": [
    "9)"
   ]
  },
  {
   "cell_type": "code",
   "execution_count": 12,
   "metadata": {},
   "outputs": [
    {
     "name": "stdout",
     "output_type": "stream",
     "text": [
      "Number =  64\n",
      "  >> Hyperbolic method answer =  7.738095238095238\n",
      "  >> Newton's method answer =  8.00000000000017\n",
      "Number =  75\n",
      "  >> Hyperbolic method answer =  8.0\n",
      "  >> Newton's method answer =  8.66025403784659\n",
      "Number =  100\n",
      "  >> Hyperbolic method answer =  9.523809523809526\n",
      "  >> Newton's method answer =  10.000000000139897\n",
      "Number =  1600\n",
      "  >> Hyperbolic method answer =  47.22222222222222\n",
      "  >> Newton's method answer =  40.000000000606505\n"
     ]
    }
   ],
   "source": [
    "def hyper_sqrt(N):\n",
    "    n = 0\n",
    "    a = N\n",
    "    while(N>=100):\n",
    "        N = N/100\n",
    "        n += 1\n",
    "        a = N\n",
    "    \n",
    "    s = (10**n)*(10 + (-190)/(a + 20))\n",
    "    return s\n",
    "\n",
    "def newton_sqrt(N):\n",
    "    ans = 1\n",
    "    while not (abs(ans**2 - N)<(10**(-5))):\n",
    "        ans = 0.5*(ans+N/ans)\n",
    "    return ans\n",
    "            \n",
    "N_list = [64,75,100,1600]\n",
    "for N in N_list: \n",
    "    print(\"Number = \",N)      \n",
    "    print(\"  >> Hyperbolic method answer = \",hyper_sqrt(N))\n",
    "    print(\"  >> Newton's method answer = \",newton_sqrt(N))\n"
   ]
  },
  {
   "cell_type": "markdown",
   "metadata": {},
   "source": [
    "10)"
   ]
  },
  {
   "cell_type": "code",
   "execution_count": 13,
   "metadata": {},
   "outputs": [],
   "source": [
    "import cv2 as cv\n",
    "\n",
    "im = cv.imread(r'.\\gal_gaussian.png')\n",
    "blured_im = cv.GaussianBlur(im,(5,5),0)\n",
    "\n",
    "cv.namedWindow('Image',cv.WINDOW_AUTOSIZE)\n",
    "cv.imshow('Image',im)\n",
    "cv.waitKey(0)\n",
    "cv.imshow('Image',blured_im)\n",
    "cv.waitKey(0)\n",
    "cv.destroyAllWindows()"
   ]
  },
  {
   "cell_type": "markdown",
   "metadata": {},
   "source": [
    "11)"
   ]
  },
  {
   "cell_type": "code",
   "execution_count": 14,
   "metadata": {},
   "outputs": [],
   "source": [
    "im2 = cv.imread(r'.\\gal_sandp.png')\n",
    "filtered_im2 = cv.medianBlur(im2,5)\n",
    "\n",
    "cv.namedWindow('Image',cv.WINDOW_AUTOSIZE)\n",
    "cv.imshow('Image',im2)\n",
    "cv.waitKey(0)\n",
    "cv.imshow('Image',filtered_im2)\n",
    "cv.waitKey(0)\n",
    "cv.destroyAllWindows()"
   ]
  },
  {
   "cell_type": "markdown",
   "metadata": {},
   "source": [
    "12)"
   ]
  },
  {
   "cell_type": "code",
   "execution_count": 15,
   "metadata": {},
   "outputs": [
    {
     "data": {
      "image/png": "[encoded data removed]",
      "text/plain": [
       "<Figure size 432x288 with 1 Axes>"
      ]
     },
     "metadata": {
      "needs_background": "light"
     },
     "output_type": "display_data"
    }
   ],
   "source": [
    "import numpy as np\n",
    "import matplotlib.pyplot as plt\n",
    "\n",
    "im3 = np.zeros((40,60),dtype=np.uint8)\n",
    "im3[:21,30:] = 125\n",
    "fig,ax = plt.subplots()\n",
    "ax.imshow(im3, cmap = 'gray', vmin = 0, vmax = 255)\n",
    "\n",
    "plt.show()"
   ]
  },
  {
   "cell_type": "markdown",
   "metadata": {},
   "source": [
    "13)"
   ]
  },
  {
   "cell_type": "code",
   "execution_count": 16,
   "metadata": {},
   "outputs": [
    {
     "data": {
      "image/png": "[encoded data removed]",
      "text/plain": [
       "<Figure size 432x288 with 1 Axes>"
      ]
     },
     "metadata": {
      "needs_background": "light"
     },
     "output_type": "display_data"
    }
   ],
   "source": [
    "im4 = np.zeros([40,60,3],dtype=np.uint8)\n",
    "im4[20:,:31] = [218,24,132] #RGB values for Barbie pink\n",
    "fig,ax = plt.subplots()\n",
    "ax.imshow(im4)\n",
    "\n",
    "plt.show()"
   ]
  },
  {
   "cell_type": "markdown",
   "metadata": {},
   "source": [
    "14)"
   ]
  },
  {
   "cell_type": "code",
   "execution_count": 17,
   "metadata": {},
   "outputs": [],
   "source": [
    "im5 = cv.imread('tom_dark.jpg')\n",
    "hsv = cv.cvtColor(im5, cv.COLOR_BGR2HSV)\n",
    "\n",
    "increase = 50\n",
    "hsv[:,:,2] += increase\n",
    "bright_im5 = cv.cvtColor(hsv, cv.COLOR_HSV2BGR)\n",
    "\n",
    "cv.namedWindow('Image',cv.WINDOW_AUTOSIZE)\n",
    "cv.imshow('Image',im5)\n",
    "cv.waitKey(0)\n",
    "cv.imshow('Image',bright_im5)\n",
    "cv.waitKey(0)\n",
    "cv.destroyAllWindows()"
   ]
  }
 ],
 "metadata": {
  "interpreter": {
   "hash": "1f1f9fccea62d636e957018db2322d719a7408bb02b32723b20cb66206739a1b"
  },
  "kernelspec": {
   "display_name": "Python 3.9.1 64-bit",
   "language": "python",
   "name": "python3"
  },
  "language_info": {
   "codemirror_mode": {
    "name": "ipython",
    "version": 3
   },
   "file_extension": ".py",
   "mimetype": "text/x-python",
   "name": "python",
   "nbconvert_exporter": "python",
   "pygments_lexer": "ipython3",
   "version": "3.10.2"
  },
  "orig_nbformat": 4
 },
 "nbformat": 4,
 "nbformat_minor": 2
}
